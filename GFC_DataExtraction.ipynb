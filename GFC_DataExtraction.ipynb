{
 "cells": [
  {
   "cell_type": "markdown",
   "id": "71f03e8d",
   "metadata": {},
   "source": [
    "# Importing Required Libraries"
   ]
  },
  {
   "cell_type": "code",
   "execution_count": 1,
   "id": "512c69ad",
   "metadata": {},
   "outputs": [],
   "source": [
    "import pandas as pd"
   ]
  },
  {
   "cell_type": "markdown",
   "id": "7c5e016c",
   "metadata": {},
   "source": [
    "# Reading the dataset"
   ]
  },
  {
   "cell_type": "code",
   "execution_count": 2,
   "id": "3bdaa898",
   "metadata": {},
   "outputs": [],
   "source": [
    "df = pd.read_csv('GFC_dataset.csv')\n"
   ]
  },
  {
   "cell_type": "markdown",
   "id": "2466721d",
   "metadata": {},
   "source": [
    "# Knowing the data"
   ]
  },
  {
   "cell_type": "code",
   "execution_count": 3,
   "id": "debe4432",
   "metadata": {},
   "outputs": [
    {
     "data": {
      "text/html": [
       "<div>\n",
       "<style scoped>\n",
       "    .dataframe tbody tr th:only-of-type {\n",
       "        vertical-align: middle;\n",
       "    }\n",
       "\n",
       "    .dataframe tbody tr th {\n",
       "        vertical-align: top;\n",
       "    }\n",
       "\n",
       "    .dataframe thead th {\n",
       "        text-align: right;\n",
       "    }\n",
       "</style>\n",
       "<table border=\"1\" class=\"dataframe\">\n",
       "  <thead>\n",
       "    <tr style=\"text-align: right;\">\n",
       "      <th></th>\n",
       "      <th>Company Name</th>\n",
       "      <th>Fiscal Year</th>\n",
       "      <th>Total Revenue</th>\n",
       "      <th>Net Income</th>\n",
       "      <th>Total Assets</th>\n",
       "      <th>Total Liabilities</th>\n",
       "      <th>Cash Flow</th>\n",
       "    </tr>\n",
       "  </thead>\n",
       "  <tbody>\n",
       "    <tr>\n",
       "      <th>0</th>\n",
       "      <td>Microsoft</td>\n",
       "      <td>2023</td>\n",
       "      <td>211915.0</td>\n",
       "      <td>72361.0</td>\n",
       "      <td>411976.0</td>\n",
       "      <td>205753.0</td>\n",
       "      <td>87582.0</td>\n",
       "    </tr>\n",
       "    <tr>\n",
       "      <th>1</th>\n",
       "      <td>Microsoft</td>\n",
       "      <td>2022</td>\n",
       "      <td>198270.0</td>\n",
       "      <td>72738.0</td>\n",
       "      <td>364840.0</td>\n",
       "      <td>198298.0</td>\n",
       "      <td>89035.0</td>\n",
       "    </tr>\n",
       "    <tr>\n",
       "      <th>2</th>\n",
       "      <td>Microsoft</td>\n",
       "      <td>2021</td>\n",
       "      <td>168088.0</td>\n",
       "      <td>61271.0</td>\n",
       "      <td>333779.0</td>\n",
       "      <td>88657.0</td>\n",
       "      <td>76740.0</td>\n",
       "    </tr>\n",
       "    <tr>\n",
       "      <th>3</th>\n",
       "      <td>Telsa</td>\n",
       "      <td>2023</td>\n",
       "      <td>96773.0</td>\n",
       "      <td>14974.0</td>\n",
       "      <td>106618.0</td>\n",
       "      <td>43009.0</td>\n",
       "      <td>13256.0</td>\n",
       "    </tr>\n",
       "    <tr>\n",
       "      <th>4</th>\n",
       "      <td>Telsa</td>\n",
       "      <td>2022</td>\n",
       "      <td>81462.0</td>\n",
       "      <td>12587.0</td>\n",
       "      <td>82338.0</td>\n",
       "      <td>36440.0</td>\n",
       "      <td>14724.0</td>\n",
       "    </tr>\n",
       "  </tbody>\n",
       "</table>\n",
       "</div>"
      ],
      "text/plain": [
       "  Company Name   Fiscal Year  Total Revenue  Net Income  Total Assets  \\\n",
       "0    Microsoft          2023       211915.0     72361.0      411976.0   \n",
       "1    Microsoft          2022       198270.0     72738.0      364840.0   \n",
       "2    Microsoft          2021       168088.0     61271.0      333779.0   \n",
       "3        Telsa          2023        96773.0     14974.0      106618.0   \n",
       "4        Telsa          2022        81462.0     12587.0       82338.0   \n",
       "\n",
       "   Total Liabilities   Cash Flow  \n",
       "0           205753.0     87582.0  \n",
       "1           198298.0     89035.0  \n",
       "2            88657.0     76740.0  \n",
       "3            43009.0     13256.0  \n",
       "4            36440.0     14724.0  "
      ]
     },
     "execution_count": 3,
     "metadata": {},
     "output_type": "execute_result"
    }
   ],
   "source": [
    "df.head(5)"
   ]
  },
  {
   "cell_type": "markdown",
   "id": "a75c62c7",
   "metadata": {},
   "source": [
    "# Analyzing trends with pandas:\n",
    "\n"
   ]
  },
  {
   "cell_type": "code",
   "execution_count": 4,
   "id": "5149ce46",
   "metadata": {},
   "outputs": [],
   "source": [
    "# Group the data by Company Name and calculate the Revenue Growth % for each company\n",
    "df['Revenue Growth (%)'] = df.groupby(['Company Name'])['Total Revenue'].pct_change() * 100\n"
   ]
  },
  {
   "cell_type": "code",
   "execution_count": 5,
   "id": "2f58a5b5",
   "metadata": {},
   "outputs": [],
   "source": [
    "# Group the data by Company Name and calculate the Net Income Growth % for each company\n",
    "df['Net Income Growth (%)'] = df.groupby(['Company Name'])['Net Income'].pct_change() * 100"
   ]
  },
  {
   "cell_type": "code",
   "execution_count": 6,
   "id": "02f25342",
   "metadata": {},
   "outputs": [
    {
     "name": "stdout",
     "output_type": "stream",
     "text": [
      "              Total Revenue    Net Income\n",
      "Company Name                             \n",
      "Apple         381143.333333  97159.333333\n",
      "Microsoft     192757.666667  68790.000000\n",
      "Telsa          77352.666667  11068.333333\n"
     ]
    }
   ],
   "source": [
    "# Group the data by Company Name and calculate the average Total Revenue and Net Income for each company\n",
    "grouped_by_company = df.groupby('Company Name').agg({'Total Revenue': 'mean', 'Net Income': 'mean'})\n",
    "\n",
    "# Print the grouped data\n",
    "print(grouped_by_company)"
   ]
  },
  {
   "cell_type": "markdown",
   "id": "1a793e58",
   "metadata": {},
   "source": [
    "# Financial Summary\n",
    "\n",
    "In this analysis, we had three companies like Microsoft,Telsa, Apple for the fiscal years of 2023,2022,2021.\n",
    "\n",
    "# Revenue Growth\n",
    "\n",
    "For Microsoft and Telsa there is an increase in the revenue growth over the years, ever as Apple has increase and then decrease in their revenue growth.\n",
    "\n",
    "\n"
   ]
  }
 ],
 "metadata": {
  "kernelspec": {
   "display_name": "Python 3 (ipykernel)",
   "language": "python",
   "name": "python3"
  },
  "language_info": {
   "codemirror_mode": {
    "name": "ipython",
    "version": 3
   },
   "file_extension": ".py",
   "mimetype": "text/x-python",
   "name": "python",
   "nbconvert_exporter": "python",
   "pygments_lexer": "ipython3",
   "version": "3.9.16"
  }
 },
 "nbformat": 4,
 "nbformat_minor": 5
}
